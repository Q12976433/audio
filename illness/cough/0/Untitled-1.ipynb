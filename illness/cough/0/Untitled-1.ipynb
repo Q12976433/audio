{
 "cells": [
  {
   "cell_type": "code",
   "execution_count": 3,
   "metadata": {},
   "outputs": [
    {
     "name": "stdout",
     "output_type": "stream",
     "text": [
      "Length of the WAV file: 1.1 s\n"
     ]
    }
   ],
   "source": [
    "import wave\n",
    "with wave.open(\"2 (1).wav\") as mywav:\n",
    "    duration_seconds = mywav.getnframes() / mywav.getframerate()\n",
    "    print(f\"Length of the WAV file: {duration_seconds:.1f} s\")"
   ]
  },
  {
   "cell_type": "code",
   "execution_count": null,
   "metadata": {},
   "outputs": [],
   "source": [
    "import os\n",
    "import wave\n",
    "import matplotlib.pyplot as plt\n",
    "\n",
    "folder_path = \"/path/to/folder\"  # 替换为实际文件夹路径\n",
    "total_files = 0\n",
    "file_lengths = []\n",
    "\n",
    "for filename in os.listdir(folder_path):\n",
    "    if filename.endswith(\".wav\"):\n",
    "        total_files += 1\n",
    "        file_path = os.path.join(folder_path, filename)\n",
    "        with wave.open(file_path, 'r') as wav_file:\n",
    "            frames = wav_file.getnframes()\n",
    "            rate = wav_file.getframerate()\n",
    "            duration = frames / float(rate)\n",
    "            file_lengths.append(duration)\n",
    "\n",
    "print(f\"Total WAV files: {total_files}\")\n",
    "print(f\"Total length (in seconds): {sum(file_lengths)}\")\n",
    "\n",
    "# 绘制条形图\n",
    "plt.bar(range(len(file_lengths)), file_lengths)\n",
    "plt.title(\"WAV file lengths\")\n",
    "plt.xlabel(\"File index\")\n",
    "plt.ylabel(\"Duration (seconds)\")\n",
    "plt.show()"
   ]
  }
 ],
 "metadata": {
  "kernelspec": {
   "display_name": "Python 3",
   "language": "python",
   "name": "python3"
  },
  "language_info": {
   "codemirror_mode": {
    "name": "ipython",
    "version": 3
   },
   "file_extension": ".py",
   "mimetype": "text/x-python",
   "name": "python",
   "nbconvert_exporter": "python",
   "pygments_lexer": "ipython3",
   "version": "3.11.2"
  },
  "orig_nbformat": 4
 },
 "nbformat": 4,
 "nbformat_minor": 2
}
